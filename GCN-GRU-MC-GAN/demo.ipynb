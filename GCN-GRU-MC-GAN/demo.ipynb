{
 "cells": [
  {
   "cell_type": "code",
   "execution_count": 1,
   "metadata": {},
   "outputs": [],
   "source": [
    "import os\n",
    "import pandas as pd\n",
    "import re\n",
    "from tqdm import tqdm\n",
    "\n",
    "basic_info_df = pd.read_csv('data/parkings_info.csv')\n",
    "basic_info_df['lat_long'] = list(zip(basic_info_df['latitude'], basic_info_df['longitude']))"
   ]
  },
  {
   "cell_type": "code",
   "execution_count": 6,
   "metadata": {},
   "outputs": [],
   "source": [
    "from graph_utils import build_graph\n",
    "\n",
    "target_park = '电影大厦'\n",
    "target_area, adj, target_map, nks, kns = build_graph(basic_info_df, target_park)\n",
    "target_park_basic_info = basic_info_df.loc[basic_info_df.parking_name == target_park].iloc[0]\n",
    "\n",
    "seqs_raw = build_area_seqs(target_area, start='2016-10-01', end='2016-11-01')\n",
    "# normalization\n",
    "seqs_normal = seqs_raw/seqs_raw.max()"
   ]
  },
  {
   "cell_type": "code",
   "execution_count": 3,
   "metadata": {},
   "outputs": [],
   "source": [
    "def get_nodes_features(area_df):\n",
    "    node_f = area_df[['total_space','monthly_fee','building_type']]\n",
    "    node_f['total_space'] = node_f.total_space/node_f.total_space.max()\n",
    "    node_f['monthly_fee'] = node_f.monthly_fee/node_f.monthly_fee.max()\n",
    "    building_type_oneHot = pd.get_dummies(node_f['building_type'])\n",
    "    node_f = node_f.drop('building_type',axis = 1)\n",
    "    node_f = node_f.join(building_type_oneHot)\n",
    "    return node_f"
   ]
  },
  {
   "cell_type": "code",
   "execution_count": 4,
   "metadata": {},
   "outputs": [
    {
     "name": "stderr",
     "output_type": "stream",
     "text": [
      "<ipython-input-3-6246592cf25e>:3: SettingWithCopyWarning: \n",
      "A value is trying to be set on a copy of a slice from a DataFrame.\n",
      "Try using .loc[row_indexer,col_indexer] = value instead\n",
      "\n",
      "See the caveats in the documentation: https://pandas.pydata.org/pandas-docs/stable/user_guide/indexing.html#returning-a-view-versus-a-copy\n",
      "  node_f['total_space'] = node_f.total_space/node_f.total_space.max()\n",
      "<ipython-input-3-6246592cf25e>:4: SettingWithCopyWarning: \n",
      "A value is trying to be set on a copy of a slice from a DataFrame.\n",
      "Try using .loc[row_indexer,col_indexer] = value instead\n",
      "\n",
      "See the caveats in the documentation: https://pandas.pydata.org/pandas-docs/stable/user_guide/indexing.html#returning-a-view-versus-a-copy\n",
      "  node_f['monthly_fee'] = node_f.monthly_fee/node_f.monthly_fee.max()\n"
     ]
    }
   ],
   "source": [
    "node_f = get_nodes_features(target_area)"
   ]
  },
  {
   "cell_type": "code",
   "execution_count": 5,
   "metadata": {},
   "outputs": [],
   "source": [
    "from IPython.display import Image, display\n",
    "from datetime import date, timedelta\n",
    "import pandas as pd\n",
    "import numpy as np\n",
    "\n",
    "def build_area_seqs(target_area, start='2016-08-01', end='2017-01-01'):\n",
    "    # 整合到一个文件中\n",
    "    area_df = pd.DataFrame()\n",
    "    for name in target_area.parking_name:\n",
    "        file_name = 'data/seqs/'+name+'_seq.csv'\n",
    "        file_df = pd.read_csv(file_name)\n",
    "        file_df['parking'] = nks[name]\n",
    "        cols = file_df.columns.tolist()\n",
    "        cols = [cols[0], cols[2], cols[1]]\n",
    "        file_df = file_df[cols]\n",
    "        if len(area_df)>0:\n",
    "            area_df = pd.concat([area_df, file_df])\n",
    "        else:\n",
    "            area_df = file_df\n",
    "\n",
    "    out_bound_indexes = area_df[(area_df['date'] < start) | (area_df['date'] >= end)].index \n",
    "    area_df.drop(out_bound_indexes, inplace = True) \n",
    "    return area_df.pivot_table('occupy', ['date'], 'parking')"
   ]
  },
  {
   "cell_type": "code",
   "execution_count": 207,
   "metadata": {},
   "outputs": [],
   "source": [
    "import tensorflow as tf\n",
    "from abc import ABC\n",
    "from tensorflow.keras.regularizers import l2\n",
    "from tensorflow.keras.models import Model\n",
    "from tensorflow.keras.layers import Input, Dropout, GRU, Flatten, Dense, LeakyReLU\n",
    "from spektral.layers import GraphConv\n",
    "from spektral.utils import normalized_laplacian\n",
    "\n",
    "l2_reg = 5e-4 / 2       # L2 regularization rate\n",
    "\n",
    "class Generator(tf.keras.Model, ABC):\n",
    "\n",
    "    def __init__(self, seq=96, N=11):\n",
    "        super(Generator, self).__init__()\n",
    "        self.dropout = Dropout(0.25)\n",
    "        self.flatten = Flatten()\n",
    "        self.graph_conv_1 = GraphConv(32,\n",
    "                               activation='elu',\n",
    "                               kernel_regularizer=l2(l2_reg),\n",
    "                               use_bias=False)\n",
    "        self.graph_conv_2 = GraphConv(16,\n",
    "                               activation='elu',\n",
    "                               kernel_regularizer=l2(l2_reg),\n",
    "                               use_bias=False)\n",
    "        self.dense_1 = Dense(32, activation='relu')\n",
    "        self.dense_2 = Dense(64, activation='relu')\n",
    "        self.gru = GRU(128, return_sequences=True)\n",
    "        self.final_dense = Dense(1, activation='tanh')\n",
    "\n",
    "    def call(self, seq, adj, nodes_features, training=True):\n",
    "        f = tf.convert_to_tensor(nodes_features) # 11*F\n",
    "        g = tf.convert_to_tensor(normalized_laplacian(adj)) # 11*11\n",
    "        s = tf.convert_to_tensor(seq) # 96*11\n",
    "        \n",
    "        # https://github.com/danielegrattarola/spektral/blob/master/examples/node_prediction/citation_gcn.py\n",
    "        c = self.graph_conv_1([f, g]) # 11*11\n",
    "        c = self.graph_conv_2([c, g]) # 11*11\n",
    "        \n",
    "        s_g = tf.matmul(s, c) # 96*11\n",
    "        \n",
    "        fc = self.dense_1(s_g)  # 96*32\n",
    "        fc = self.dropout(fc, training=training)\n",
    "        fc = self.dense_2(fc)   # 96*32             \n",
    "        fc = self.dropout(fc, training=training)\n",
    "\n",
    "        fc = tf.expand_dims(fc, axis=0) # 1*96*32 \n",
    "        ro = self.gru(fc)\n",
    "        ro = tf.squeeze(ro, axis=0) # 96*32\n",
    "        return self.final_dense(ro) # 96*1\n",
    "\n",
    "    \n",
    "class Discriminator(tf.keras.Model, ABC):\n",
    "\n",
    "    def __init__(self, seq=96, N=11):\n",
    "        super(Discriminator, self).__init__()\n",
    "        self.leaky_relu = LeakyReLU(alpha=0.2)\n",
    "        self.dropout = Dropout(0.25)\n",
    "        self.flatten = Flatten()\n",
    "        self.graph_conv_1 = GraphConv(32,\n",
    "                               activation='elu',\n",
    "                               kernel_regularizer=l2(l2_reg),\n",
    "                               use_bias=False)\n",
    "        self.graph_conv_2 = GraphConv(16,\n",
    "                               activation='elu',\n",
    "                               kernel_regularizer=l2(l2_reg),\n",
    "                               use_bias=False)\n",
    "        self.dense_1 = Dense(32)\n",
    "        self.dense_2 = Dense(64)\n",
    "        self.gru = GRU(128, return_sequences=True)\n",
    "        self.final_dense = Dense(1, activation='sigmoid')\n",
    "\n",
    "    def call(self, seq, adj, nodes_features, training=True):\n",
    "        s = tf.convert_to_tensor(seq) # 96*1\n",
    "\n",
    "        fc = self.dense_1(s)  # 96*32    \n",
    "        fc = self.leaky_relu(fc)\n",
    "        fc = self.dropout(fc, training=training)\n",
    "        \n",
    "        fc = self.dense_2(fc) # 96*64\n",
    "        fc = self.leaky_relu(fc)\n",
    "        fc = self.dropout(fc, training=training)\n",
    "\n",
    "        fc = tf.expand_dims(fc, axis=0)\n",
    "        ro = self.gru(fc)\n",
    "        ro = tf.squeeze(ro, axis=0) # 96*64\n",
    "        return self.final_dense(ro) # 96*1\n",
    "    "
   ]
  },
  {
   "cell_type": "code",
   "execution_count": 215,
   "metadata": {},
   "outputs": [],
   "source": [
    "import os\n",
    "from tensorflow.keras.optimizers import Adam\n",
    "from image_utils import save_images, save_images_batch, sample_noise\n",
    "import time\n",
    "import tensorflow as tf\n",
    "import numpy as np\n",
    "import matplotlib.pyplot as plt\n",
    "\n",
    "batch_size = 96\n",
    "save_interval = 5\n",
    "learning_rate = 2e-3\n",
    "adam_beta_1 = 0.5\n",
    "\n",
    "\n",
    "class Train:\n",
    "    def __init__(self, seqs, adj, nodes_features, epochs=1000, key=9):\n",
    "        self.epochs = epochs\n",
    "        self.gen_optimizer = Adam(learning_rate, adam_beta_1)\n",
    "        self.desc_optimizer = Adam(learning_rate, adam_beta_1)\n",
    "        self.generator = Generator(seqs.shape[0], seqs.shape[1])\n",
    "        self.discriminator = Discriminator(seqs.shape[0], seqs.shape[1])\n",
    "        self.cross_entropy = tf.keras.losses.BinaryCrossentropy(from_logits=True)\n",
    "        self.seqs = seqs.astype('float32')\n",
    "        self.adj = adj.astype('float32')\n",
    "        self.nodes_features = nodes_features.astype('float32')\n",
    "        self.key=key\n",
    "        \n",
    "    def __call__(self, save_path='saved'):\n",
    "        save_path+=str(time.time())\n",
    "        if not os.path.exists(save_path):\n",
    "            os.makedirs(save_path)\n",
    "        \n",
    "        time_len = self.seqs.shape[0]\n",
    "        num_nodes = self.seqs.shape[1]\n",
    "        total_batch = int(time_len / batch_size) # 2976/96=31\n",
    "        \n",
    "        time_consumed_total = 0.\n",
    "        for epoch in range(1, self.epochs + 1):\n",
    "            start = time.time()\n",
    "            total_gen_loss = 0\n",
    "            total_disc_loss = 0\n",
    "            \n",
    "            for week in range(0, total_batch):\n",
    "                gen_loss, disc_loss = self.train_step(self.seqs[week:week+batch_size], self.adj, self.nodes_features)\n",
    "                total_gen_loss += gen_loss\n",
    "                total_disc_loss += disc_loss\n",
    "\n",
    "            time_consumed = time.time() - start\n",
    "            time_consumed_total += time_consumed\n",
    "            time_consumed_agv = time_consumed_total / epoch\n",
    "            self.epochs_last = self.epochs - epoch\n",
    "            estimate_time_last = self.epochs_last * time_consumed_agv\n",
    "            print('epoch {}({})/{}({}) - gen_loss = {}, disc_loss = {}, estimated to finish: {}'\n",
    "                  .format(epoch, round(time.time() - start, 2),\n",
    "                          self.epochs, round(time_consumed_total,2),\n",
    "                          round(float(total_gen_loss/total_batch),5),\n",
    "                          round(float(total_disc_loss/total_batch),5),\n",
    "                          round(estimate_time_last,2)))\n",
    "            \n",
    "            if epoch%save_interval==0:\n",
    "                plot = self.generate()\n",
    "                fig = plot.get_figure()\n",
    "                fig.savefig(save_path+\"/gen_\"+str(epoch)+\".png\")\n",
    "                plt.clf()\n",
    "            \n",
    "    def train_step(self, seqs, adj, nodes_features, key=9):\n",
    "        with tf.GradientTape(persistent=True) as tape:\n",
    "            seqs_noise = seqs.copy()\n",
    "            max_s = seqs[key].max()\n",
    "            seqs_noise[key] = np.random.normal(max_s/2.0, max_s/10.0, size=(seqs.shape[0])).astype('float32')\n",
    "            \n",
    "            generated = self.generator(seqs_noise, adj, nodes_features)\n",
    "            real_output = self.discriminator(tf.expand_dims(seqs[key], axis=1), adj, nodes_features) # 评价高\n",
    "            generated_output = self.discriminator(generated, adj, nodes_features) # 初始评价低\n",
    "\n",
    "            loss_g = self.generator_loss(self.cross_entropy, generated_output)\n",
    "            loss_d = self.discriminator_loss(self.cross_entropy, real_output, generated_output)\n",
    "\n",
    "        grad_gen = tape.gradient(loss_g, self.generator.trainable_variables)\n",
    "        grad_disc = tape.gradient(loss_d, self.discriminator.trainable_variables)\n",
    "\n",
    "        self.gen_optimizer.apply_gradients(zip(grad_gen, self.generator.trainable_variables))\n",
    "        self.desc_optimizer.apply_gradients(zip(grad_disc, self.discriminator.trainable_variables))\n",
    "\n",
    "        return loss_g, loss_d\n",
    "    \n",
    "    def generate(self):\n",
    "        seqs_replace = self.seqs[:batch_size].copy()\n",
    "        max_s = seqs_replace[self.key].max()\n",
    "        seqs_replace[self.key] = np.random.normal(max_s/2.0, max_s/10.0, size=(seqs_replace.shape[0])).astype('float32')\n",
    "        gen_data = self.generator(seqs_replace, self.adj, self.nodes_features, training=False)\n",
    "        \n",
    "        from sklearn import preprocessing\n",
    "        min_max_scaler = preprocessing.MinMaxScaler()\n",
    "        x_scaled = min_max_scaler.fit_transform(gen_data.numpy())\n",
    "        return pd.DataFrame(x_scaled).plot() # [self.key]\n",
    "    \n",
    "    @staticmethod\n",
    "    def discriminator_loss(loss_object, real_output, fake_output):\n",
    "        \"\"\"\n",
    "        ...\n",
    "        \"\"\"\n",
    "        real_loss = loss_object(tf.ones_like(real_output), real_output)\n",
    "        fake_loss = loss_object(tf.zeros_like(fake_output), fake_output)\n",
    "        total_loss = real_loss + fake_loss\n",
    "        return total_loss\n",
    "\n",
    "    @staticmethod\n",
    "    def generator_loss(loss_object, fake_output):\n",
    "        \"\"\"\n",
    "        ...\n",
    "        \"\"\"\n",
    "        return loss_object(tf.ones_like(fake_output), fake_output)"
   ]
  },
  {
   "cell_type": "code",
   "execution_count": 217,
   "metadata": {
    "scrolled": true
   },
   "outputs": [
    {
     "name": "stdout",
     "output_type": "stream",
     "text": [
      "epoch 1(10.26)/100(10.26) - gen_loss = 1.00989, disc_loss = 1.33514, estimated to finish: 1015.94\n",
      "epoch 2(4.45)/100(14.71) - gen_loss = 0.67996, disc_loss = 1.38744, estimated to finish: 720.65\n",
      "epoch 3(4.39)/100(19.1) - gen_loss = 0.75091, disc_loss = 1.33014, estimated to finish: 617.44\n",
      "epoch 4(4.36)/100(23.46) - gen_loss = 0.7146, disc_loss = 1.37127, estimated to finish: 562.94\n",
      "epoch 5(4.35)/100(27.8) - gen_loss = 0.68639, disc_loss = 1.39661, estimated to finish: 528.25\n",
      "epoch 6(4.36)/100(32.16) - gen_loss = 0.69267, disc_loss = 1.39256, estimated to finish: 503.85\n",
      "epoch 7(4.39)/100(36.55) - gen_loss = 0.69573, disc_loss = 1.39084, estimated to finish: 485.58\n",
      "epoch 8(4.39)/100(40.94) - gen_loss = 0.69748, disc_loss = 1.38798, estimated to finish: 470.78\n",
      "epoch 9(4.38)/100(45.32) - gen_loss = 0.69928, disc_loss = 1.38611, estimated to finish: 458.24\n",
      "epoch 10(4.35)/100(49.67) - gen_loss = 0.70659, disc_loss = 1.38119, estimated to finish: 447.01\n",
      "epoch 11(4.35)/100(54.02) - gen_loss = 0.70653, disc_loss = 1.37885, estimated to finish: 437.07\n",
      "epoch 12(4.41)/100(58.43) - gen_loss = 0.6914, disc_loss = 1.38761, estimated to finish: 428.5\n",
      "epoch 13(4.35)/100(62.78) - gen_loss = 0.69155, disc_loss = 1.38854, estimated to finish: 420.15\n",
      "epoch 14(4.68)/100(67.46) - gen_loss = 0.70123, disc_loss = 1.3851, estimated to finish: 414.41\n",
      "epoch 15(4.36)/100(71.82) - gen_loss = 0.71907, disc_loss = 1.37987, estimated to finish: 406.98\n",
      "epoch 16(4.34)/100(76.16) - gen_loss = 0.66946, disc_loss = 1.38659, estimated to finish: 399.83\n",
      "epoch 17(4.34)/100(80.5) - gen_loss = 0.71418, disc_loss = 1.38495, estimated to finish: 393.03\n",
      "epoch 18(4.36)/100(84.86) - gen_loss = 0.68514, disc_loss = 1.39244, estimated to finish: 386.58\n",
      "epoch 19(4.34)/100(89.2) - gen_loss = 0.7025, disc_loss = 1.38654, estimated to finish: 380.28\n",
      "epoch 20(4.32)/100(93.52) - gen_loss = 0.71334, disc_loss = 1.38426, estimated to finish: 374.09\n",
      "epoch 21(4.42)/100(97.94) - gen_loss = 0.66738, disc_loss = 1.39081, estimated to finish: 368.44\n",
      "epoch 22(4.39)/100(102.33) - gen_loss = 0.7154, disc_loss = 1.38692, estimated to finish: 362.8\n",
      "epoch 23(4.44)/100(106.77) - gen_loss = 0.70031, disc_loss = 1.38364, estimated to finish: 357.45\n",
      "epoch 24(4.4)/100(111.17) - gen_loss = 0.67122, disc_loss = 1.3868, estimated to finish: 352.04\n",
      "epoch 25(4.29)/100(115.46) - gen_loss = 0.70674, disc_loss = 1.38666, estimated to finish: 346.39\n",
      "epoch 26(4.34)/100(119.81) - gen_loss = 0.69499, disc_loss = 1.38251, estimated to finish: 341.0\n",
      "epoch 27(4.36)/100(124.17) - gen_loss = 0.71183, disc_loss = 1.38467, estimated to finish: 335.71\n",
      "epoch 28(4.46)/100(128.63) - gen_loss = 0.71047, disc_loss = 1.38935, estimated to finish: 330.76\n",
      "epoch 29(4.4)/100(133.03) - gen_loss = 0.81003, disc_loss = 1.55674, estimated to finish: 325.69\n",
      "epoch 30(4.41)/100(137.43) - gen_loss = 0.6843, disc_loss = 1.39556, estimated to finish: 320.68\n",
      "epoch 31(4.46)/100(141.9) - gen_loss = 0.70984, disc_loss = 1.38228, estimated to finish: 315.83\n",
      "epoch 32(4.36)/100(146.26) - gen_loss = 0.70546, disc_loss = 1.38866, estimated to finish: 310.8\n",
      "epoch 33(4.34)/100(150.6) - gen_loss = 0.68082, disc_loss = 1.3854, estimated to finish: 305.77\n",
      "epoch 34(4.35)/100(154.95) - gen_loss = 0.74124, disc_loss = 1.37736, estimated to finish: 300.79\n",
      "epoch 35(4.37)/100(159.33) - gen_loss = 0.69144, disc_loss = 1.38734, estimated to finish: 295.89\n",
      "epoch 36(4.39)/100(163.72) - gen_loss = 0.71038, disc_loss = 1.38524, estimated to finish: 291.06\n",
      "epoch 37(4.33)/100(168.05) - gen_loss = 0.68483, disc_loss = 1.38513, estimated to finish: 286.13\n",
      "epoch 38(4.34)/100(172.39) - gen_loss = 0.70721, disc_loss = 1.38604, estimated to finish: 281.27\n",
      "epoch 39(4.35)/100(176.74) - gen_loss = 0.70771, disc_loss = 1.38061, estimated to finish: 276.45\n",
      "epoch 40(4.34)/100(181.09) - gen_loss = 0.70936, disc_loss = 1.384, estimated to finish: 271.63\n",
      "epoch 41(4.34)/100(185.42) - gen_loss = 0.69083, disc_loss = 1.38217, estimated to finish: 266.83\n",
      "epoch 42(4.34)/100(189.76) - gen_loss = 0.69323, disc_loss = 1.39076, estimated to finish: 262.06\n",
      "epoch 43(4.36)/100(194.12) - gen_loss = 0.7374, disc_loss = 1.36391, estimated to finish: 257.32\n",
      "epoch 44(4.31)/100(198.43) - gen_loss = 0.71249, disc_loss = 1.38995, estimated to finish: 252.55\n",
      "epoch 45(4.35)/100(202.79) - gen_loss = 0.74184, disc_loss = 1.3477, estimated to finish: 247.85\n",
      "epoch 46(4.33)/100(207.11) - gen_loss = 0.68591, disc_loss = 1.40897, estimated to finish: 243.13\n",
      "epoch 47(4.37)/100(211.49) - gen_loss = 0.7096, disc_loss = 1.38324, estimated to finish: 238.49\n",
      "epoch 48(4.33)/100(215.82) - gen_loss = 0.69993, disc_loss = 1.38202, estimated to finish: 233.8\n",
      "epoch 49(4.33)/100(220.14) - gen_loss = 0.69561, disc_loss = 1.38569, estimated to finish: 229.13\n",
      "epoch 50(4.33)/100(224.48) - gen_loss = 0.69459, disc_loss = 1.38461, estimated to finish: 224.48\n",
      "epoch 51(4.36)/100(228.83) - gen_loss = 0.71206, disc_loss = 1.38014, estimated to finish: 219.86\n",
      "epoch 52(4.33)/100(233.16) - gen_loss = 0.71427, disc_loss = 1.36716, estimated to finish: 215.23\n",
      "epoch 53(4.3)/100(237.47) - gen_loss = 0.71652, disc_loss = 1.38346, estimated to finish: 210.58\n",
      "epoch 54(4.31)/100(241.77) - gen_loss = 0.71092, disc_loss = 1.37287, estimated to finish: 205.95\n",
      "epoch 55(4.29)/100(246.07) - gen_loss = 0.71339, disc_loss = 1.40207, estimated to finish: 201.33\n",
      "epoch 56(4.33)/100(250.39) - gen_loss = 0.71126, disc_loss = 1.37211, estimated to finish: 196.74\n",
      "epoch 57(4.34)/100(254.74) - gen_loss = 0.7265, disc_loss = 1.36831, estimated to finish: 192.17\n",
      "epoch 58(4.26)/100(259.0) - gen_loss = 0.69247, disc_loss = 1.39268, estimated to finish: 187.55\n",
      "epoch 59(4.3)/100(263.3) - gen_loss = 0.69433, disc_loss = 1.38739, estimated to finish: 182.97\n",
      "epoch 60(4.32)/100(267.62) - gen_loss = 0.69997, disc_loss = 1.3854, estimated to finish: 178.41\n",
      "epoch 61(4.3)/100(271.92) - gen_loss = 0.70454, disc_loss = 1.37809, estimated to finish: 173.85\n",
      "epoch 62(4.34)/100(276.26) - gen_loss = 0.70264, disc_loss = 1.37895, estimated to finish: 169.32\n",
      "epoch 63(4.31)/100(280.57) - gen_loss = 0.70445, disc_loss = 1.38529, estimated to finish: 164.78\n",
      "epoch 64(4.33)/100(284.89) - gen_loss = 0.70116, disc_loss = 1.38173, estimated to finish: 160.25\n",
      "epoch 65(4.31)/100(289.2) - gen_loss = 0.70008, disc_loss = 1.38594, estimated to finish: 155.72\n",
      "epoch 66(4.32)/100(293.52) - gen_loss = 0.70222, disc_loss = 1.37903, estimated to finish: 151.21\n",
      "epoch 67(4.33)/100(297.85) - gen_loss = 0.70545, disc_loss = 1.37946, estimated to finish: 146.7\n",
      "epoch 68(4.32)/100(302.17) - gen_loss = 0.71279, disc_loss = 1.37714, estimated to finish: 142.2\n",
      "epoch 69(4.34)/100(306.51) - gen_loss = 0.68595, disc_loss = 1.38655, estimated to finish: 137.71\n",
      "epoch 70(4.36)/100(310.87) - gen_loss = 0.70877, disc_loss = 1.37887, estimated to finish: 133.23\n",
      "epoch 71(4.35)/100(315.22) - gen_loss = 0.70912, disc_loss = 1.3727, estimated to finish: 128.75\n",
      "epoch 72(4.3)/100(319.52) - gen_loss = 0.70061, disc_loss = 1.38896, estimated to finish: 124.26\n",
      "epoch 73(4.33)/100(323.85) - gen_loss = 0.69266, disc_loss = 1.39127, estimated to finish: 119.78\n",
      "epoch 74(4.33)/100(328.18) - gen_loss = 0.71362, disc_loss = 1.36983, estimated to finish: 115.31\n",
      "epoch 75(4.31)/100(332.49) - gen_loss = 0.6847, disc_loss = 1.39901, estimated to finish: 110.83\n",
      "epoch 76(4.31)/100(336.81) - gen_loss = 0.69126, disc_loss = 1.38785, estimated to finish: 106.36\n",
      "epoch 77(4.33)/100(341.14) - gen_loss = 0.69024, disc_loss = 1.3862, estimated to finish: 101.9\n",
      "epoch 78(4.32)/100(345.46) - gen_loss = 0.7077, disc_loss = 1.38687, estimated to finish: 97.44\n",
      "epoch 79(4.36)/100(349.81) - gen_loss = 0.69086, disc_loss = 1.38398, estimated to finish: 92.99\n",
      "epoch 80(4.31)/100(354.12) - gen_loss = 0.69934, disc_loss = 1.38279, estimated to finish: 88.53\n",
      "epoch 81(4.31)/100(358.43) - gen_loss = 0.69986, disc_loss = 1.38188, estimated to finish: 84.08\n",
      "epoch 82(4.35)/100(362.77) - gen_loss = 0.69364, disc_loss = 1.38808, estimated to finish: 79.63\n",
      "epoch 83(4.37)/100(367.14) - gen_loss = 0.71124, disc_loss = 1.37264, estimated to finish: 75.2\n",
      "epoch 84(4.36)/100(371.5) - gen_loss = 0.69457, disc_loss = 1.38754, estimated to finish: 70.76\n",
      "epoch 85(4.32)/100(375.82) - gen_loss = 0.69145, disc_loss = 1.39612, estimated to finish: 66.32\n"
     ]
    },
    {
     "name": "stdout",
     "output_type": "stream",
     "text": [
      "epoch 86(4.31)/100(380.14) - gen_loss = 0.70206, disc_loss = 1.38572, estimated to finish: 61.88\n",
      "epoch 87(4.32)/100(384.45) - gen_loss = 0.68672, disc_loss = 1.39356, estimated to finish: 57.45\n",
      "epoch 88(4.31)/100(388.77) - gen_loss = 0.69279, disc_loss = 1.39715, estimated to finish: 53.01\n",
      "epoch 89(4.32)/100(393.09) - gen_loss = 0.7003, disc_loss = 1.37264, estimated to finish: 48.58\n",
      "epoch 90(4.31)/100(397.39) - gen_loss = 0.68599, disc_loss = 1.39874, estimated to finish: 44.15\n",
      "epoch 91(4.29)/100(401.68) - gen_loss = 0.69595, disc_loss = 1.39362, estimated to finish: 39.73\n",
      "epoch 92(4.3)/100(405.98) - gen_loss = 0.69177, disc_loss = 1.38613, estimated to finish: 35.3\n",
      "epoch 93(4.26)/100(410.24) - gen_loss = 0.69302, disc_loss = 1.39483, estimated to finish: 30.88\n",
      "epoch 94(4.36)/100(414.6) - gen_loss = 0.69375, disc_loss = 1.37638, estimated to finish: 26.46\n",
      "epoch 95(4.35)/100(418.95) - gen_loss = 0.69776, disc_loss = 1.38479, estimated to finish: 22.05\n",
      "epoch 96(4.36)/100(423.31) - gen_loss = 0.69599, disc_loss = 1.38531, estimated to finish: 17.64\n",
      "epoch 97(4.34)/100(427.65) - gen_loss = 0.69152, disc_loss = 1.39463, estimated to finish: 13.23\n",
      "epoch 98(4.28)/100(431.93) - gen_loss = 0.69518, disc_loss = 1.38197, estimated to finish: 8.81\n",
      "epoch 99(4.34)/100(436.27) - gen_loss = 0.68847, disc_loss = 1.39383, estimated to finish: 4.41\n",
      "epoch 100(4.3)/100(440.57) - gen_loss = 0.69456, disc_loss = 1.38008, estimated to finish: 0.0\n"
     ]
    },
    {
     "data": {
      "text/plain": [
       "<Figure size 432x288 with 0 Axes>"
      ]
     },
     "metadata": {},
     "output_type": "display_data"
    },
    {
     "data": {
      "text/plain": [
       "<Figure size 432x288 with 0 Axes>"
      ]
     },
     "metadata": {},
     "output_type": "display_data"
    },
    {
     "data": {
      "text/plain": [
       "<Figure size 432x288 with 0 Axes>"
      ]
     },
     "metadata": {},
     "output_type": "display_data"
    },
    {
     "data": {
      "text/plain": [
       "<Figure size 432x288 with 0 Axes>"
      ]
     },
     "metadata": {},
     "output_type": "display_data"
    },
    {
     "data": {
      "text/plain": [
       "<Figure size 432x288 with 0 Axes>"
      ]
     },
     "metadata": {},
     "output_type": "display_data"
    },
    {
     "data": {
      "text/plain": [
       "<Figure size 432x288 with 0 Axes>"
      ]
     },
     "metadata": {},
     "output_type": "display_data"
    },
    {
     "data": {
      "text/plain": [
       "<Figure size 432x288 with 0 Axes>"
      ]
     },
     "metadata": {},
     "output_type": "display_data"
    },
    {
     "data": {
      "text/plain": [
       "<Figure size 432x288 with 0 Axes>"
      ]
     },
     "metadata": {},
     "output_type": "display_data"
    },
    {
     "data": {
      "text/plain": [
       "<Figure size 432x288 with 0 Axes>"
      ]
     },
     "metadata": {},
     "output_type": "display_data"
    },
    {
     "data": {
      "text/plain": [
       "<Figure size 432x288 with 0 Axes>"
      ]
     },
     "metadata": {},
     "output_type": "display_data"
    },
    {
     "data": {
      "text/plain": [
       "<Figure size 432x288 with 0 Axes>"
      ]
     },
     "metadata": {},
     "output_type": "display_data"
    },
    {
     "data": {
      "text/plain": [
       "<Figure size 432x288 with 0 Axes>"
      ]
     },
     "metadata": {},
     "output_type": "display_data"
    },
    {
     "data": {
      "text/plain": [
       "<Figure size 432x288 with 0 Axes>"
      ]
     },
     "metadata": {},
     "output_type": "display_data"
    },
    {
     "data": {
      "text/plain": [
       "<Figure size 432x288 with 0 Axes>"
      ]
     },
     "metadata": {},
     "output_type": "display_data"
    },
    {
     "data": {
      "text/plain": [
       "<Figure size 432x288 with 0 Axes>"
      ]
     },
     "metadata": {},
     "output_type": "display_data"
    },
    {
     "data": {
      "text/plain": [
       "<Figure size 432x288 with 0 Axes>"
      ]
     },
     "metadata": {},
     "output_type": "display_data"
    },
    {
     "data": {
      "text/plain": [
       "<Figure size 432x288 with 0 Axes>"
      ]
     },
     "metadata": {},
     "output_type": "display_data"
    },
    {
     "data": {
      "text/plain": [
       "<Figure size 432x288 with 0 Axes>"
      ]
     },
     "metadata": {},
     "output_type": "display_data"
    },
    {
     "data": {
      "text/plain": [
       "<Figure size 432x288 with 0 Axes>"
      ]
     },
     "metadata": {},
     "output_type": "display_data"
    },
    {
     "data": {
      "text/plain": [
       "<Figure size 432x288 with 0 Axes>"
      ]
     },
     "metadata": {},
     "output_type": "display_data"
    }
   ],
   "source": [
    "train = Train(seqs_normal, adj, node_f, 100)\n",
    "train()"
   ]
  },
  {
   "cell_type": "code",
   "execution_count": 222,
   "metadata": {},
   "outputs": [
    {
     "data": {
      "image/png": "[encoded data removed]",
      "text/plain": [
       "<Figure size 432x288 with 1 Axes>"
      ]
     },
     "metadata": {
      "needs_background": "light"
     },
     "output_type": "display_data"
    }
   ],
   "source": [
    "for w in range(5,6):\n",
    "    seqs_normal[w:w+96][9].plot(title='Target 9')"
   ]
  },
  {
   "cell_type": "code",
   "execution_count": 213,
   "metadata": {},
   "outputs": [
    {
     "data": {
      "text/plain": [
       "<Figure size 432x288 with 0 Axes>"
      ]
     },
     "metadata": {},
     "output_type": "display_data"
    },
    {
     "data": {
      "text/plain": [
       "<Figure size 432x288 with 0 Axes>"
      ]
     },
     "metadata": {},
     "output_type": "display_data"
    },
    {
     "data": {
      "text/plain": [
       "<Figure size 432x288 with 0 Axes>"
      ]
     },
     "metadata": {},
     "output_type": "display_data"
    },
    {
     "data": {
      "text/plain": [
       "<Figure size 432x288 with 0 Axes>"
      ]
     },
     "metadata": {},
     "output_type": "display_data"
    },
    {
     "data": {
      "text/plain": [
       "<Figure size 432x288 with 0 Axes>"
      ]
     },
     "metadata": {},
     "output_type": "display_data"
    }
   ],
   "source": [
    "for w in range(5,10):          \n",
    "    plot = train.generate()\n",
    "    fig = plot.get_figure()\n",
    "    fig.savefig(\"gen_data/gen_\"+str(w)+\".png\")\n",
    "    plt.clf()"
   ]
  },
  {
   "cell_type": "code",
   "execution_count": 218,
   "metadata": {},
   "outputs": [
    {
     "data": {
      "text/html": [
       "<div>\n",
       "<style scoped>\n",
       "    .dataframe tbody tr th:only-of-type {\n",
       "        vertical-align: middle;\n",
       "    }\n",
       "\n",
       "    .dataframe tbody tr th {\n",
       "        vertical-align: top;\n",
       "    }\n",
       "\n",
       "    .dataframe thead th {\n",
       "        text-align: right;\n",
       "    }\n",
       "</style>\n",
       "<table border=\"1\" class=\"dataframe\">\n",
       "  <thead>\n",
       "    <tr style=\"text-align: right;\">\n",
       "      <th></th>\n",
       "      <th>total_space</th>\n",
       "      <th>monthly_fee</th>\n",
       "      <th>住宅</th>\n",
       "      <th>公共</th>\n",
       "      <th>写字楼</th>\n",
       "      <th>商业</th>\n",
       "    </tr>\n",
       "  </thead>\n",
       "  <tbody>\n",
       "    <tr>\n",
       "      <th>0</th>\n",
       "      <td>0.200000</td>\n",
       "      <td>0.375000</td>\n",
       "      <td>0</td>\n",
       "      <td>0</td>\n",
       "      <td>1</td>\n",
       "      <td>0</td>\n",
       "    </tr>\n",
       "    <tr>\n",
       "      <th>1</th>\n",
       "      <td>0.900000</td>\n",
       "      <td>0.416667</td>\n",
       "      <td>0</td>\n",
       "      <td>0</td>\n",
       "      <td>1</td>\n",
       "      <td>0</td>\n",
       "    </tr>\n",
       "    <tr>\n",
       "      <th>2</th>\n",
       "      <td>0.173333</td>\n",
       "      <td>0.750000</td>\n",
       "      <td>0</td>\n",
       "      <td>0</td>\n",
       "      <td>0</td>\n",
       "      <td>1</td>\n",
       "    </tr>\n",
       "    <tr>\n",
       "      <th>3</th>\n",
       "      <td>0.266667</td>\n",
       "      <td>0.091667</td>\n",
       "      <td>1</td>\n",
       "      <td>0</td>\n",
       "      <td>0</td>\n",
       "      <td>0</td>\n",
       "    </tr>\n",
       "    <tr>\n",
       "      <th>4</th>\n",
       "      <td>0.486667</td>\n",
       "      <td>0.091667</td>\n",
       "      <td>1</td>\n",
       "      <td>0</td>\n",
       "      <td>0</td>\n",
       "      <td>0</td>\n",
       "    </tr>\n",
       "    <tr>\n",
       "      <th>5</th>\n",
       "      <td>1.000000</td>\n",
       "      <td>0.250000</td>\n",
       "      <td>0</td>\n",
       "      <td>1</td>\n",
       "      <td>0</td>\n",
       "      <td>0</td>\n",
       "    </tr>\n",
       "    <tr>\n",
       "      <th>6</th>\n",
       "      <td>0.600000</td>\n",
       "      <td>0.416667</td>\n",
       "      <td>0</td>\n",
       "      <td>0</td>\n",
       "      <td>1</td>\n",
       "      <td>0</td>\n",
       "    </tr>\n",
       "    <tr>\n",
       "      <th>7</th>\n",
       "      <td>0.620000</td>\n",
       "      <td>0.091667</td>\n",
       "      <td>0</td>\n",
       "      <td>0</td>\n",
       "      <td>1</td>\n",
       "      <td>0</td>\n",
       "    </tr>\n",
       "    <tr>\n",
       "      <th>8</th>\n",
       "      <td>0.320000</td>\n",
       "      <td>1.000000</td>\n",
       "      <td>0</td>\n",
       "      <td>0</td>\n",
       "      <td>0</td>\n",
       "      <td>1</td>\n",
       "    </tr>\n",
       "    <tr>\n",
       "      <th>9</th>\n",
       "      <td>0.386667</td>\n",
       "      <td>0.208333</td>\n",
       "      <td>1</td>\n",
       "      <td>0</td>\n",
       "      <td>0</td>\n",
       "      <td>0</td>\n",
       "    </tr>\n",
       "    <tr>\n",
       "      <th>10</th>\n",
       "      <td>0.686667</td>\n",
       "      <td>0.091667</td>\n",
       "      <td>1</td>\n",
       "      <td>0</td>\n",
       "      <td>0</td>\n",
       "      <td>0</td>\n",
       "    </tr>\n",
       "  </tbody>\n",
       "</table>\n",
       "</div>"
      ],
      "text/plain": [
       "    total_space  monthly_fee  住宅  公共  写字楼  商业\n",
       "0      0.200000     0.375000   0   0    1   0\n",
       "1      0.900000     0.416667   0   0    1   0\n",
       "2      0.173333     0.750000   0   0    0   1\n",
       "3      0.266667     0.091667   1   0    0   0\n",
       "4      0.486667     0.091667   1   0    0   0\n",
       "5      1.000000     0.250000   0   1    0   0\n",
       "6      0.600000     0.416667   0   0    1   0\n",
       "7      0.620000     0.091667   0   0    1   0\n",
       "8      0.320000     1.000000   0   0    0   1\n",
       "9      0.386667     0.208333   1   0    0   0\n",
       "10     0.686667     0.091667   1   0    0   0"
      ]
     },
     "execution_count": 218,
     "metadata": {},
     "output_type": "execute_result"
    }
   ],
   "source": [
    "node_f"
   ]
  },
  {
   "cell_type": "code",
   "execution_count": null,
   "metadata": {},
   "outputs": [],
   "source": []
  }
 ],
 "metadata": {
  "kernelspec": {
   "display_name": "Python 3",
   "language": "python",
   "name": "python3"
  },
  "language_info": {
   "codemirror_mode": {
    "name": "ipython",
    "version": 3
   },
   "file_extension": ".py",
   "mimetype": "text/x-python",
   "name": "python",
   "nbconvert_exporter": "python",
   "pygments_lexer": "ipython3",
   "version": "3.8.3"
  }
 },
 "nbformat": 4,
 "nbformat_minor": 4
}
